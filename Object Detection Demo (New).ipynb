{
 "cells": [
  {
   "cell_type": "code",
   "execution_count": 43,
   "metadata": {
    "collapsed": true
   },
   "outputs": [],
   "source": [
    "def obj_detect(file_loc):\n",
    "    #from __future__ import print_function\n",
    "    \n",
    "    from imutils.object_detection import non_max_suppression\n",
    "    from imutils import paths\n",
    "    import numpy as np\n",
    "    import argparse\n",
    "    import imutils\n",
    "    import cv2\n",
    "    from PIL import Image\n",
    "\n",
    "    img_path = file_loc\n",
    "\n",
    "    hog = cv2.HOGDescriptor()\n",
    "    hog.setSVMDetector(cv2.HOGDescriptor_getDefaultPeopleDetector())\n",
    "\n",
    "    cv_image = cv2.imread(img_path)\n",
    "    cv_image = imutils.resize(cv_image, width=min(600, cv_image.shape[1]))\n",
    "\n",
    "    orig = cv2.imread(img_path)\n",
    "    orig = imutils.resize(cv_image, width=min(600, orig.shape[1]))\n",
    "\n",
    "    #The following are adjusting the winstride, padding, scale and hitthreshold to achieve accuracy\n",
    "    \n",
    "    #futher fine tune is required for autmation\n",
    "    \n",
    "    #different resoution of image might need different inputs\n",
    "    \n",
    "    #this is for demostration purpose\n",
    "    \n",
    "    \n",
    "    if file_loc == \"ATM.jpg\":\n",
    "        (rects, weights) = hog.detectMultiScale(cv_image, winStride=(5, 5), \n",
    "        padding=(8, 8), scale = 1.04, hitThreshold = 0.00)\n",
    "    elif file_loc == \"Abbey.jpg\":\n",
    "            (rects, weights) = hog.detectMultiScale(cv_image, winStride=(2, 2),\n",
    "        padding=(8, 8), scale = 1.03, hitThreshold=0.1)\n",
    "    elif file_loc == \"ATM3.jpg\":\n",
    "            (rects, weights) = hog.detectMultiScale(cv_image, winStride=(6, 6),\n",
    "        padding=(8, 8), scale = 1.08, hitThreshold=0.0)\n",
    "    elif file_loc == \"test.jpg\":\n",
    "            (rects, weights) = hog.detectMultiScale(cv_image, winStride=(2, 2),\n",
    "        padding=(12, 12), scale = 1.1, hitThreshold=0.0)\n",
    "    else:    \n",
    "         (rects, weights) = hog.detectMultiScale(cv_image, winStride=(2,2),\n",
    "        padding=(0,0), scale = 1.01, hitThreshold=0.00)\n",
    "\n",
    "\n",
    "    #for (x, y, w, h) in rects:\n",
    "    #    cv2.rectangle(cv_image, (x, y), (x + w, y + h), (0, 0, 255), 2)\n",
    "    \n",
    "    rects = np.array([[x, y, x + w, y + h] for (x, y, w, h) in rects])\n",
    "    \n",
    "    pick = non_max_suppression(rects, probs=None, overlapThresh=0.9)\n",
    "    \n",
    "    for (xA, yA, xB, yB) in pick:\n",
    "        cv2.rectangle(cv_image, (xA, yA), (xB, yB), (0, 255, 0), 2)\n",
    "\n",
    "    print(\"[INFO] {}: {} original boxes, {} after suppression\".format(\n",
    "        img_path, len(rects), len(pick)))\n",
    "\n",
    "    cv2.imwrite(\"orig.jpg\", orig) \n",
    "    cv2.imwrite(\"image.jpg\", cv_image) \n",
    "    \n",
    "    #display original & new image\n",
    "    cv2.waitKey(0)\n",
    "    \n",
    "def print_obj():\n",
    "    from PIL import Image\n",
    "    org_img = Image.open(\"orig.jpg\")  \n",
    "    new_img = Image.open(\"image.jpg\")\n",
    "    new_img.show()\n",
    "    org_img.show()\n",
    "\n"
   ]
  },
  {
   "cell_type": "code",
   "execution_count": 44,
   "metadata": {},
   "outputs": [
    {
     "name": "stdout",
     "output_type": "stream",
     "text": [
      "[INFO] Abbey.jpg: 5 original boxes, 4 after suppression\n"
     ]
    }
   ],
   "source": [
    "#new file\n",
    "obj_detect('Abbey.jpg')\n",
    "print_obj()"
   ]
  },
  {
   "cell_type": "code",
   "execution_count": 48,
   "metadata": {},
   "outputs": [
    {
     "name": "stdout",
     "output_type": "stream",
     "text": [
      "[INFO] ATM.jpg: 4 original boxes, 4 after suppression\n"
     ]
    }
   ],
   "source": [
    "obj_detect('ATM.jpg')\n",
    "print_obj()"
   ]
  },
  {
   "cell_type": "code",
   "execution_count": 49,
   "metadata": {},
   "outputs": [
    {
     "name": "stdout",
     "output_type": "stream",
     "text": [
      "[INFO] ATM2.jpg: 4 original boxes, 4 after suppression\n"
     ]
    }
   ],
   "source": [
    "obj_detect('ATM2.jpg')\n",
    "print_obj()"
   ]
  },
  {
   "cell_type": "code",
   "execution_count": 50,
   "metadata": {},
   "outputs": [
    {
     "name": "stdout",
     "output_type": "stream",
     "text": [
      "[INFO] Fox.jpg: 4 original boxes, 4 after suppression\n"
     ]
    }
   ],
   "source": [
    "obj_detect(\"Fox.jpg\")\n",
    "print_obj()"
   ]
  },
  {
   "cell_type": "code",
   "execution_count": null,
   "metadata": {
    "collapsed": true
   },
   "outputs": [],
   "source": []
  }
 ],
 "metadata": {
  "kernelspec": {
   "display_name": "Python 3",
   "language": "python",
   "name": "python3"
  },
  "language_info": {
   "codemirror_mode": {
    "name": "ipython",
    "version": 3
   },
   "file_extension": ".py",
   "mimetype": "text/x-python",
   "name": "python",
   "nbconvert_exporter": "python",
   "pygments_lexer": "ipython3",
   "version": "3.6.2"
  }
 },
 "nbformat": 4,
 "nbformat_minor": 2
}
