{
 "cells": [
  {
   "cell_type": "code",
   "execution_count": 88,
   "metadata": {},
   "outputs": [],
   "source": [
    "def obj_detect(file_loc):\n",
    "    #from __future__ import print_function\n",
    "    from imutils.object_detection import non_max_suppression\n",
    "    from imutils import paths\n",
    "    import numpy as np\n",
    "    import argparse\n",
    "    import imutils\n",
    "    import cv2\n",
    "    from PIL import Image\n",
    "\n",
    "    img_path = file_loc\n",
    "\n",
    "    hog = cv2.HOGDescriptor()\n",
    "    hog.setSVMDetector(cv2.HOGDescriptor_getDefaultPeopleDetector())\n",
    "\n",
    "    cv_image = cv2.imread(img_path)\n",
    "    cv_image = imutils.resize(cv_image, width=min(1000, cv_image.shape[1]))\n",
    "\n",
    "    orig = cv2.imread(img_path)\n",
    "    orig = imutils.resize(cv_image, width=min(1000, orig.shape[1]))\n",
    "\n",
    "    (rects, weights) = hog.detectMultiScale(cv_image, winStride=(8,8),\n",
    "        padding=(16, 16), scale = 1.05, hitThreshold=0.00)\n",
    "    for (x, y, w, h) in rects:\n",
    "        cv2.rectangle(cv_image, (x, y), (x + w, y + h), (0, 0, 255), 2)\n",
    "    rects = np.array([[x, y, x + w, y + h] for (x, y, w, h) in rects])\n",
    "    pick = non_max_suppression(rects, probs=None, overlapThresh=0.85)\n",
    "    for (xA, yA, xB, yB) in pick:\n",
    "        cv2.rectangle(cv_image, (xA, yA), (xB, yB), (0, 255, 0), 2)\n",
    "\n",
    "    print(\"[INFO] {}: {} original boxes, {} after suppression\".format(\n",
    "        img_path, len(rects), len(pick)))\n",
    "    #cv2.startWindowThread()\n",
    "    #cv2.imshow(\"Before NMS\", orig)\n",
    "    #cv2.imshow(\"After NMS\", image)\n",
    "\n",
    "    cv2.imwrite(\"orig.jpg\", orig) \n",
    "    cv2.imwrite(\"image.jpg\", cv_image) \n",
    "    \n",
    "    \n",
    "def print_obj():\n",
    "    from PIL import Image\n",
    "    org_img = Image.open(\"orig.jpg\")\n",
    "    new_img = Image.open(\"image.jpg\")\n",
    "    new_img.show()\n",
    "    org_img.show()\n",
    "\n",
    "\n"
   ]
  },
  {
   "cell_type": "code",
   "execution_count": 89,
   "metadata": {},
   "outputs": [
    {
     "name": "stdout",
     "output_type": "stream",
     "text": [
      "[INFO] test2.jpg: 1 original boxes, 1 after suppression\n"
     ]
    }
   ],
   "source": [
    "#new file\n",
    "obj_detect('test2.jpg')\n",
    "\n",
    "#display original & new image\n",
    "print_obj()\n"
   ]
  },
  {
   "cell_type": "code",
   "execution_count": null,
   "metadata": {
    "collapsed": true
   },
   "outputs": [],
   "source": []
  }
 ],
 "metadata": {
  "kernelspec": {
   "display_name": "Python 3",
   "language": "python",
   "name": "python3"
  },
  "language_info": {
   "codemirror_mode": {
    "name": "ipython",
    "version": 3
   },
   "file_extension": ".py",
   "mimetype": "text/x-python",
   "name": "python",
   "nbconvert_exporter": "python",
   "pygments_lexer": "ipython3",
   "version": "3.6.2"
  }
 },
 "nbformat": 4,
 "nbformat_minor": 2
}
