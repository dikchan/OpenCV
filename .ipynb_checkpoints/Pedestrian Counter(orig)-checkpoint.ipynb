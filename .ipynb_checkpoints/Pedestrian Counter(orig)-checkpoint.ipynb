{
 "cells": [
  {
   "cell_type": "markdown",
   "metadata": {},
   "source": [
    "# Image *20.jpg"
   ]
  },
  {
   "cell_type": "code",
   "execution_count": 2,
   "metadata": {},
   "outputs": [
    {
     "name": "stdout",
     "output_type": "stream",
     "text": [
      "[INFO] ATM.jpg: 4 original boxes, 4 after suppression\n"
     ]
    },
    {
     "data": {
      "text/plain": [
       "-1"
      ]
     },
     "execution_count": 2,
     "metadata": {},
     "output_type": "execute_result"
    }
   ],
   "source": [
    "from __future__ import print_function\n",
    "from imutils.object_detection import non_max_suppression\n",
    "from imutils import paths\n",
    "import numpy as np\n",
    "import argparse\n",
    "import imutils\n",
    "import cv2\n",
    "\n",
    "img_path = 'ATM.jpg'\n",
    "\n",
    "hog = cv2.HOGDescriptor()\n",
    "hog.setSVMDetector(cv2.HOGDescriptor_getDefaultPeopleDetector())\n",
    "\n",
    "image = cv2.imread(img_path)\n",
    "image = imutils.resize(image, width=min(600, image.shape[1]))\n",
    "orig = image.copy()\n",
    "\n",
    "(rects, weights) = hog.detectMultiScale(image, winStride=(3, 3),\n",
    "    padding=(0, 256), scale = 1.04, hitThreshold = 0.095)\n",
    "for (x, y, w, h) in rects:\n",
    "    cv2.rectangle(orig, (x, y), (x + w, y + h), (0, 0, 255), 2)\n",
    "rects = np.array([[x, y, x + w, y + h] for (x, y, w, h) in rects])\n",
    "pick = non_max_suppression(rects, probs=None, overlapThresh=0.85)\n",
    "for (xA, yA, xB, yB) in pick:\n",
    "    cv2.rectangle(image, (xA, yA), (xB, yB), (0, 255, 0), 2)\n",
    "\n",
    "print(\"[INFO] {}: {} original boxes, {} after suppression\".format(\n",
    "    img_path, len(rects), len(pick)))\n",
    "cv2.startWindowThread()\n",
    "cv2.imshow(\"Before NMS\", orig)\n",
    "cv2.imshow(\"After NMS\", image)\n",
    "cv2.waitKey(0)\n",
    "cv2.destroyAllWindows()\n",
    "cv2.waitKey(1)\n",
    "cv2.waitKey(1)\n"
   ]
  },
  {
   "cell_type": "markdown",
   "metadata": {},
   "source": [
    "# Image *22.jpg"
   ]
  },
  {
   "cell_type": "code",
   "execution_count": null,
   "metadata": {
    "collapsed": true
   },
   "outputs": [],
   "source": [
    "from __future__ import print_function\n",
    "from imutils.object_detection import non_max_suppression\n",
    "from imutils import paths\n",
    "import numpy as np\n",
    "import argparse\n",
    "import imutils\n",
    "import cv2\n",
    "\n",
    "img_path = 'IMG_20170814_163022.jpg'\n",
    "\n",
    "hog = cv2.HOGDescriptor()\n",
    "hog.setSVMDetector(cv2.HOGDescriptor_getDefaultPeopleDetector())\n",
    "\n",
    "image = cv2.imread(img_path)\n",
    "image = imutils.resize(image, width=min(600, image.shape[1]))\n",
    "orig = image.copy()\n",
    "\n",
    "(rects, weights) = hog.detectMultiScale(image, winStride=(4, 3),\n",
    "    padding=(0, 50), scale = 1.04, hitThreshold=0.0)\n",
    "for (x, y, w, h) in rects:\n",
    "    cv2.rectangle(orig, (x, y), (x + w, y + h), (0, 0, 255), 2)\n",
    "rects = np.array([[x, y, x + w, y + h] for (x, y, w, h) in rects])\n",
    "pick = non_max_suppression(rects, probs=None, overlapThresh=0.85)\n",
    "for (xA, yA, xB, yB) in pick:\n",
    "    cv2.rectangle(image, (xA, yA), (xB, yB), (0, 255, 0), 2)\n",
    "\n",
    "print(\"[INFO] {}: {} original boxes, {} after suppression\".format(\n",
    "    img_path, len(rects), len(pick)))\n",
    "cv2.startWindowThread()\n",
    "cv2.imshow(\"Before NMS\", orig)\n",
    "cv2.imshow(\"After NMS\", image)\n",
    "cv2.waitKey(0)\n",
    "cv2.destroyAllWindows()\n",
    "cv2.waitKey(1)\n",
    "cv2.waitKey(1)"
   ]
  },
  {
   "cell_type": "markdown",
   "metadata": {},
   "source": [
    "# Fox"
   ]
  },
  {
   "cell_type": "code",
   "execution_count": null,
   "metadata": {
    "collapsed": true
   },
   "outputs": [],
   "source": [
    "from __future__ import print_function\n",
    "from imutils.object_detection import non_max_suppression\n",
    "from imutils import paths\n",
    "import numpy as np\n",
    "import argparse\n",
    "import imutils\n",
    "import cv2\n",
    "\n",
    "img_path = 'v2-FOx-twitter.jpg'\n",
    "\n",
    "hog = cv2.HOGDescriptor()\n",
    "hog.setSVMDetector(cv2.HOGDescriptor_getDefaultPeopleDetector())\n",
    "\n",
    "image = cv2.imread(img_path)\n",
    "image = imutils.resize(image, width=min(700, image.shape[1]))\n",
    "orig = image.copy()\n",
    "\n",
    "(rects, weights) = hog.detectMultiScale(image, winStride=(3, 3),\n",
    "    padding=(128, 4), scale = 1.03, hitThreshold=0.1)\n",
    "for (x, y, w, h) in rects:\n",
    "    cv2.rectangle(orig, (x, y), (x + w, y + h), (0, 0, 255), 2)\n",
    "rects = np.array([[x, y, x + w, y + h] for (x, y, w, h) in rects])\n",
    "pick = non_max_suppression(rects, probs=None, overlapThresh=1)\n",
    "for (xA, yA, xB, yB) in pick:\n",
    "    cv2.rectangle(image, (xA, yA), (xB, yB), (0, 255, 0), 2)\n",
    "\n",
    "print(\"[INFO] {}: {} original boxes, {} after suppression\".format(\n",
    "    img_path, len(rects), len(pick)))\n",
    "cv2.startWindowThread()\n",
    "cv2.imshow(\"Before NMS\", orig)\n",
    "cv2.imshow(\"After NMS\", image)\n",
    "cv2.waitKey(0)\n",
    "cv2.destroyAllWindows()\n",
    "cv2.waitKey(1)\n",
    "cv2.waitKey(1)"
   ]
  },
  {
   "cell_type": "markdown",
   "metadata": {},
   "source": [
    "# Stock Photo"
   ]
  },
  {
   "cell_type": "code",
   "execution_count": null,
   "metadata": {
    "collapsed": true
   },
   "outputs": [],
   "source": [
    "from __future__ import print_function\n",
    "from imutils.object_detection import non_max_suppression\n",
    "from imutils import paths\n",
    "import numpy as np\n",
    "import argparse\n",
    "import imutils\n",
    "import cv2\n",
    "\n",
    "img_path = 'A-116-04comp.jpg'\n",
    "\n",
    "hog = cv2.HOGDescriptor()\n",
    "hog.setSVMDetector(cv2.HOGDescriptor_getDefaultPeopleDetector())\n",
    "\n",
    "image = cv2.imread(img_path)\n",
    "image = imutils.resize(image, width=min(600, image.shape[1]))\n",
    "orig = image.copy()\n",
    "\n",
    "(rects, weights) = hog.detectMultiScale(image, winStride=(1, 1),\n",
    "    padding=(8, 8), scale = 1.03, hitThreshold=0.1)\n",
    "for (x, y, w, h) in rects:\n",
    "    cv2.rectangle(orig, (x, y), (x + w, y + h), (0, 0, 255), 2)\n",
    "rects = np.array([[x, y, x + w, y + h] for (x, y, w, h) in rects])\n",
    "pick = non_max_suppression(rects, probs=None, overlapThresh=0.7)\n",
    "for (xA, yA, xB, yB) in pick:\n",
    "    cv2.rectangle(image, (xA, yA), (xB, yB), (0, 255, 0), 2)\n",
    "\n",
    "print(\"[INFO] {}: {} original boxes, {} after suppression\".format(\n",
    "    img_path, len(rects), len(pick)))\n",
    "cv2.startWindowThread()\n",
    "cv2.imshow(\"Before NMS\", orig)\n",
    "cv2.imshow(\"After NMS\", image)\n",
    "cv2.waitKey(0)\n",
    "cv2.destroyAllWindows()\n",
    "cv2.waitKey(1)\n",
    "cv2.waitKey(1)"
   ]
  }
 ],
 "metadata": {
  "kernelspec": {
   "display_name": "Python 3",
   "language": "python",
   "name": "python3"
  },
  "language_info": {
   "codemirror_mode": {
    "name": "ipython",
    "version": 3
   },
   "file_extension": ".py",
   "mimetype": "text/x-python",
   "name": "python",
   "nbconvert_exporter": "python",
   "pygments_lexer": "ipython3",
   "version": "3.6.2"
  }
 },
 "nbformat": 4,
 "nbformat_minor": 2
}
